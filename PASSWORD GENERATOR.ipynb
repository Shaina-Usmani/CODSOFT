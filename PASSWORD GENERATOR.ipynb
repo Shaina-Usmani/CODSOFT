{
 "cells": [
  {
   "cell_type": "code",
   "execution_count": 4,
   "id": "9073fcec-fe22-479d-8727-b6ef32316008",
   "metadata": {},
   "outputs": [
    {
     "name": "stdout",
     "output_type": "stream",
     "text": [
      "Welcome to Password Generator\n",
      "=============================\n"
     ]
    },
    {
     "name": "stdin",
     "output_type": "stream",
     "text": [
      "Enter the desired length of your password:  9\n"
     ]
    },
    {
     "name": "stdout",
     "output_type": "stream",
     "text": [
      "Generated Password: ddNjO#Gj0\n"
     ]
    }
   ],
   "source": [
    "import random\n",
    "import string\n",
    "\n",
    "def generate_password(length):\n",
    "    # Define a string containing all possible characters for the password\n",
    "    characters = string.ascii_letters + string.digits + string.punctuation\n",
    "\n",
    "    # Generate the password using random.choice to select characters randomly\n",
    "    password = ''.join(random.choice(characters) for i in range(length))\n",
    "    \n",
    "    return password\n",
    "\n",
    "def main():\n",
    "    print(\"Welcome to Password Generator\")\n",
    "    print(\"=============================\")\n",
    "    \n",
    "    # Take input from the user for desired password length\n",
    "    while True:\n",
    "        try:\n",
    "            length = int(input(\"Enter the desired length of your password: \"))\n",
    "            if length <= 0:\n",
    "                print(\"Please enter a positive integer for password length.\")\n",
    "            else:\n",
    "                break\n",
    "        except ValueError:\n",
    "            print(\"Invalid input. Please enter a valid integer.\")\n",
    "\n",
    "    # Generate the password\n",
    "    password = generate_password(length)\n",
    "    \n",
    "    # Display the generated password\n",
    "    print(f\"Generated Password: {password}\")\n",
    "\n",
    "if __name__ == \"__main__\":\n",
    "    main()\n"
   ]
  },
  {
   "cell_type": "code",
   "execution_count": null,
   "id": "5c7732e4-59c9-4b8c-b4b8-bf640cadbe40",
   "metadata": {},
   "outputs": [],
   "source": []
  }
 ],
 "metadata": {
  "kernelspec": {
   "display_name": "Python 3 (ipykernel)",
   "language": "python",
   "name": "python3"
  },
  "language_info": {
   "codemirror_mode": {
    "name": "ipython",
    "version": 3
   },
   "file_extension": ".py",
   "mimetype": "text/x-python",
   "name": "python",
   "nbconvert_exporter": "python",
   "pygments_lexer": "ipython3",
   "version": "3.11.7"
  }
 },
 "nbformat": 4,
 "nbformat_minor": 5
}
