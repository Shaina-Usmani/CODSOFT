{
 "cells": [
  {
   "cell_type": "code",
   "execution_count": null,
   "id": "6180cbd7-7bb8-4099-9137-32a7984b4c7b",
   "metadata": {},
   "outputs": [
    {
     "name": "stdout",
     "output_type": "stream",
     "text": [
      "\n",
      "===== To-Do List Menu =====\n",
      "1. Add Task\n",
      "2. View Tasks\n",
      "3. Complete Task\n",
      "4. Delete Task\n",
      "5. Save Tasks\n",
      "6. Exit\n"
     ]
    },
    {
     "name": "stdin",
     "output_type": "stream",
     "text": [
      "Enter your choice:  1\n",
      "Enter task description:  BOIL MILK\n",
      "Enter due date (YYYY-MM-DD):  25\n"
     ]
    },
    {
     "name": "stdout",
     "output_type": "stream",
     "text": [
      "Task added successfully!\n",
      "\n",
      "===== To-Do List Menu =====\n",
      "1. Add Task\n",
      "2. View Tasks\n",
      "3. Complete Task\n",
      "4. Delete Task\n",
      "5. Save Tasks\n",
      "6. Exit\n"
     ]
    },
    {
     "name": "stdin",
     "output_type": "stream",
     "text": [
      "Enter your choice:  1\n",
      "Enter task description:  WAsh CLOTH\n",
      "Enter due date (YYYY-MM-DD):  25 02 2024\n"
     ]
    },
    {
     "name": "stdout",
     "output_type": "stream",
     "text": [
      "Task added successfully!\n",
      "\n",
      "===== To-Do List Menu =====\n",
      "1. Add Task\n",
      "2. View Tasks\n",
      "3. Complete Task\n",
      "4. Delete Task\n",
      "5. Save Tasks\n",
      "6. Exit\n"
     ]
    },
    {
     "name": "stdin",
     "output_type": "stream",
     "text": [
      "Enter your choice:  2\n"
     ]
    },
    {
     "name": "stdout",
     "output_type": "stream",
     "text": [
      "\n",
      "===== Tasks in To-Do List =====\n",
      "1. ✗ BOIL MILK (Due: 25)\n",
      "2. ✗ WAsh CLOTH (Due: 25 02 2024)\n",
      "\n",
      "===== To-Do List Menu =====\n",
      "1. Add Task\n",
      "2. View Tasks\n",
      "3. Complete Task\n",
      "4. Delete Task\n",
      "5. Save Tasks\n",
      "6. Exit\n"
     ]
    }
   ],
   "source": [
    "import pickle\n",
    "import os\n",
    "\n",
    "# Task class to represent individual tasks\n",
    "class Task:\n",
    "    def __init__(self, description, due_date):\n",
    "        self.description = description\n",
    "        self.due_date = due_date\n",
    "        self.completed = False\n",
    "\n",
    "    def __str__(self):\n",
    "        status = \"✓\" if self.completed else \"✗\"\n",
    "        return f\"{status} {self.description} (Due: {self.due_date})\"\n",
    "\n",
    "# ToDoList class to manage tasks\n",
    "class ToDoList:\n",
    "    def __init__(self):\n",
    "        self.tasks = []\n",
    "\n",
    "    def add_task(self, task):\n",
    "        self.tasks.append(task)\n",
    "\n",
    "    def view_tasks(self):\n",
    "        for index, task in enumerate(self.tasks, start=1):\n",
    "            print(f\"{index}. {task}\")\n",
    "\n",
    "    def complete_task(self, task_index):\n",
    "        if 1 <= task_index <= len(self.tasks):\n",
    "            self.tasks[task_index - 1].completed = True\n",
    "        else:\n",
    "            print(\"Invalid task index!\")\n",
    "\n",
    "    def delete_task(self, task_index):\n",
    "        if 1 <= task_index <= len(self.tasks):\n",
    "            del self.tasks[task_index - 1]\n",
    "        else:\n",
    "            print(\"Invalid task index!\")\n",
    "\n",
    "    def save_tasks(self, file_name):\n",
    "        with open(file_name, 'wb') as f:\n",
    "            pickle.dump(self.tasks, f)\n",
    "\n",
    "    def load_tasks(self, file_name):\n",
    "        if os.path.exists(file_name):\n",
    "            with open(file_name, 'rb') as f:\n",
    "                self.tasks = pickle.load(f)\n",
    "        else:\n",
    "            print(\"No saved tasks found.\")\n",
    "\n",
    "# Function to display menu and handle user input\n",
    "def main():\n",
    "    todo_list = ToDoList()\n",
    "    file_name = \"tasks.pkl\"\n",
    "\n",
    "    # Load tasks from file if it exists\n",
    "    todo_list.load_tasks(file_name)\n",
    "\n",
    "    while True:\n",
    "        print(\"\\n===== To-Do List Menu =====\")\n",
    "        print(\"1. Add Task\")\n",
    "        print(\"2. View Tasks\")\n",
    "        print(\"3. Complete Task\")\n",
    "        print(\"4. Delete Task\")\n",
    "        print(\"5. Save Tasks\")\n",
    "        print(\"6. Exit\")\n",
    "        choice = input(\"Enter your choice: \")\n",
    "\n",
    "        if choice == '1':\n",
    "            description = input(\"Enter task description: \")\n",
    "            due_date = input(\"Enter due date (YYYY-MM-DD): \")\n",
    "            task = Task(description, due_date)\n",
    "            todo_list.add_task(task)\n",
    "            print(\"Task added successfully!\")\n",
    "\n",
    "        elif choice == '2':\n",
    "            print(\"\\n===== Tasks in To-Do List =====\")\n",
    "            todo_list.view_tasks()\n",
    "\n",
    "        elif choice == '3':\n",
    "            task_index = int(input(\"Enter task number to mark as complete: \"))\n",
    "            todo_list.complete_task(task_index)\n",
    "            print(\"Task marked as complete!\")\n",
    "\n",
    "        elif choice == '4':\n",
    "            task_index = int(input(\"Enter task number to delete: \"))\n",
    "            todo_list.delete_task(task_index)\n",
    "            print(\"Task deleted!\")\n",
    "\n",
    "        elif choice == '5':\n",
    "            todo_list.save_tasks(file_name)\n",
    "            print(\"Tasks saved successfully!\")\n",
    "\n",
    "        elif choice == '6':\n",
    "            print(\"Exiting program...\")\n",
    "            break\n",
    "\n",
    "        else:\n",
    "            print(\"Invalid choice. Please enter a number from 1 to 6.\")\n",
    "\n",
    "    # Save tasks before exiting\n",
    "    todo_list.save_tasks(file_name)\n",
    "\n",
    "if __name__ == \"__main__\":\n",
    "    main()\n"
   ]
  },
  {
   "cell_type": "code",
   "execution_count": null,
   "id": "a3508182-3c89-4303-94dd-261062cd6a1f",
   "metadata": {},
   "outputs": [],
   "source": []
  }
 ],
 "metadata": {
  "kernelspec": {
   "display_name": "Python 3 (ipykernel)",
   "language": "python",
   "name": "python3"
  },
  "language_info": {
   "codemirror_mode": {
    "name": "ipython",
    "version": 3
   },
   "file_extension": ".py",
   "mimetype": "text/x-python",
   "name": "python",
   "nbconvert_exporter": "python",
   "pygments_lexer": "ipython3",
   "version": "3.11.7"
  }
 },
 "nbformat": 4,
 "nbformat_minor": 5
}
